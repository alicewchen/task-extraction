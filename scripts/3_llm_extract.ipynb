{
 "cells": [
  {
   "cell_type": "code",
   "execution_count": 1,
   "metadata": {},
   "outputs": [
    {
     "name": "stdout",
     "output_type": "stream",
     "text": [
      "/home/alice/git-repo/task-extraction\n",
      "/home/alice/git-repo/task-extraction/scripts\n",
      "['', '/home/alice/git-repo/task-extraction/src', '/usr/lib/python3.10', '/usr/lib/python3.10/lib-dynload', '/home/alice/git-repo/task-extraction/venv/lib/python3.10/site-packages', '/usr/lib/python310.zip', '/home/alice/git-repo/task-extraction']\n"
     ]
    }
   ],
   "source": [
    "import os\n",
    "import sys\n",
    "notebook_path = os.getcwd()  # Get the current working directory\n",
    "project_root = os.path.dirname(notebook_path)  # Get the parent directory\n",
    "print(project_root)\n",
    "print(notebook_path)\n",
    "sys.path.append(project_root)\n",
    "os.chdir(project_root)\n",
    "sys.path.append(project_root + '/src')\n",
    "sys.path = list(set(sys.path))\n",
    "print(sys.path)\n"
   ]
  },
  {
   "cell_type": "code",
   "execution_count": 2,
   "metadata": {},
   "outputs": [
    {
     "name": "stdout",
     "output_type": "stream",
     "text": [
      "4e-05\n"
     ]
    }
   ],
   "source": [
    "import json\n",
    "from src.lb_annotation_utils import Article\n",
    "from src.llm_utils import system_prompts, estimate_token_cost\n",
    "import re\n",
    "from openai import OpenAI\n",
    "client = OpenAI(\n",
    "            base_url=\"https://openrouter.ai/api/v1\",\n",
    "            api_key=os.getenv(\"OPENROUTER_API_KEY\"))"
   ]
  },
  {
   "cell_type": "code",
   "execution_count": null,
   "metadata": {},
   "outputs": [],
   "source": [
    "# Define constants\n",
    "MAP_FOLDER = \"data/neurovault_labeled_papers/\"\n",
    "INDEX_FILE = MAP_FOLDER + \"nv_labeled_tasks_pmcid_map.json\"\n",
    "TASK_FILE_PATTERN = MAP_FOLDER + \"nv_labeled_tasks_{chunk_number}.json\""
   ]
  },
  {
   "cell_type": "code",
   "execution_count": 3,
   "metadata": {},
   "outputs": [],
   "source": [
    "ann = json.load(open('data/labelbuddy_annotations/nv_collection/annotations.json'))"
   ]
  },
  {
   "cell_type": "code",
   "execution_count": 4,
   "metadata": {},
   "outputs": [
    {
     "name": "stdout",
     "output_type": "stream",
     "text": [
      "No subheaders found in body section\n"
     ]
    }
   ],
   "source": [
    "# Set up filter logic\n",
    "# exclusion criteria\n",
    "exclude_types = [\"resting_state\", \"meta-analysis\"]\n",
    "# excluded articles\n",
    "excluded_articles = []\n",
    "# included articles\n",
    "included_articles = []  \n",
    "# extract methods\n",
    "for i in range(len(ann)):\n",
    "    article_obj  = Article(ann[i])\n",
    "    if article_obj.type in exclude_types:\n",
    "        excluded_articles.append({\"pmcid\": article_obj.pmcid, \"exclusion_reason\":{\"type\": article_obj.type}})\n",
    "    elif article_obj.methods == \"No explicit methods section\":\n",
    "        excluded_articles.append({\"pmcid\": article_obj.pmcid, \"exclusion_reason\":{\"methods\": \"No explicit methods section\"}})\n",
    "    else:\n",
    "        included_articles.append(article_obj)\n"
   ]
  },
  {
   "cell_type": "code",
   "execution_count": 5,
   "metadata": {},
   "outputs": [
    {
     "data": {
      "text/plain": [
       "[{'pmcid': 5324609,\n",
       "  'exclusion_reason': {'methods': 'No explicit methods section'}},\n",
       " {'pmcid': 5090046, 'exclusion_reason': {'type': 'resting_state'}},\n",
       " {'pmcid': 10634720, 'exclusion_reason': {'type': 'meta-analysis'}}]"
      ]
     },
     "execution_count": 5,
     "metadata": {},
     "output_type": "execute_result"
    }
   ],
   "source": [
    "excluded_articles"
   ]
  },
  {
   "cell_type": "code",
   "execution_count": 6,
   "metadata": {},
   "outputs": [
    {
     "data": {
      "text/plain": [
       "[<src.lb_annotation_utils.Article at 0x7f21a8181900>,\n",
       " <src.lb_annotation_utils.Article at 0x7f21a9de8220>]"
      ]
     },
     "execution_count": 6,
     "metadata": {},
     "output_type": "execute_result"
    }
   ],
   "source": [
    "included_articles"
   ]
  },
  {
   "cell_type": "code",
   "execution_count": 7,
   "metadata": {},
   "outputs": [
    {
     "name": "stdout",
     "output_type": "stream",
     "text": [
      "0.0024749999999999998\n"
     ]
    }
   ],
   "source": [
    "total_cost = 0\n",
    "for i in range(len(included_articles)):\n",
    "    article_obj  = included_articles[i]\n",
    "    if article_obj.methods!=\"No explicit methods section\":\n",
    "        item = {\"pmcid\": article_obj.pmcid, \"methods\": article_obj.methods}\n",
    "        total_cost += estimate_token_cost(article_obj.methods, \"text-embedding-3-small\")\n",
    "    else:\n",
    "        item = {\"pmcid\": article_obj.pmcid, \"methods\": None}\n",
    "print(total_cost)\n"
   ]
  },
  {
   "cell_type": "code",
   "execution_count": 8,
   "metadata": {},
   "outputs": [],
   "source": [
    "def extract_using_llm(text:str, client:OpenAI, call_message:callable):\n",
    "    messages = call_message(text)\n",
    "    response = client.chat.completions.create(\n",
    "        model = 'openai/gpt-4o-mini',\n",
    "        messages = messages,\n",
    "        seed = 42, \n",
    "        response_format = {\"type\": \"json_object\"}\n",
    "    )\n",
    "    return response.choices[0].message.content\n",
    "def extract_cognitive_task(text:str):\n",
    "    messages = [\n",
    "        {\"role\": \"system\", \"content\": f\"{system_prompts['CognitiveTask']}\"},\n",
    "    {\"role\": \"user\", \"content\": f\"{text}\"},\n",
    "]\n",
    "    return messages\n",
    "def extract_cognitive_task_description(text:str):\n",
    "    messages = [\n",
    "        {\"role\": \"system\", \"content\": f\"{system_prompts['CognitiveTaskDescription']}\"},\n",
    "    {\"role\": \"user\", \"content\": f\"{text}\"},\n",
    "]   \n",
    "    return messages\n",
    "\n"
   ]
  },
  {
   "cell_type": "code",
   "execution_count": 9,
   "metadata": {},
   "outputs": [],
   "source": [
    "for i in range(len(included_articles)):\n",
    "    methods = included_articles[i].methods\n",
    "    output = extract_using_llm(text = methods, client = client, call_message = extract_cognitive_task)\n",
    "    if re.search(r'null', output):\n",
    "        output_description = extract_using_llm(text = methods, client = client, call_message = extract_cognitive_task_description)\n",
    "        included_articles[i].llm.cognitive_task_description = output_description\n",
    "    else:\n",
    "        included_articles[i].llm.cognitive_task = output\n"
   ]
  },
  {
   "cell_type": "code",
   "execution_count": 10,
   "metadata": {},
   "outputs": [
    {
     "name": "stdout",
     "output_type": "stream",
     "text": [
      "8318202\n",
      "{\"cognitive_task\": [\"attentive listening\", \"word repetition\"]}\n",
      "None\n",
      "\n",
      "\n",
      "9202476\n",
      "{\"cognitive_task\": [\"match-to-sample (MTS) task\", \"visual search\", \"visual attention\", \"reaction time measurement\"]}\n",
      "None\n",
      "\n",
      "\n"
     ]
    }
   ],
   "source": [
    "for i in range(len(included_articles)):\n",
    "    print(included_articles[i].pmcid)\n",
    "    print(included_articles[i].llm.cognitive_task)\n",
    "    print(included_articles[i].llm.cognitive_task_description)\n",
    "    print(\"\\n\")"
   ]
  },
  {
   "cell_type": "code",
   "execution_count": null,
   "metadata": {},
   "outputs": [],
   "source": [
    "def get_nv_labeled_tasks(pmcid, index_folder,  index_file,json_file_pattern):\n",
    "    nv_labeled_tasks = []\n",
    "    for i in range(len(included_articles)):\n",
    "        output = {k: {'pmcid': k, 'task': task_info_dict, 'pmid': v['pmid'], 'doi': v['doi']}}\n",
    "        nv_labeled_tasks.append(output)\n",
    "    return nv_labeled_tasks"
   ]
  },
  {
   "cell_type": "code",
   "execution_count": 11,
   "metadata": {},
   "outputs": [
    {
     "name": "stderr",
     "output_type": "stream",
     "text": [
      "/home/alice/git-repo/task-extraction/venv/lib/python3.10/site-packages/tqdm/auto.py:21: TqdmWarning: IProgress not found. Please update jupyter and ipywidgets. See https://ipywidgets.readthedocs.io/en/stable/user_install.html\n",
      "  from .autonotebook import tqdm as notebook_tqdm\n"
     ]
    },
    {
     "name": "stdout",
     "output_type": "stream",
     "text": [
      "[0.999999995, 0.5852819331885631]\n"
     ]
    },
    {
     "ename": "ImportError",
     "evalue": "cannot import name 'calculate_bert_score' from 'src.data_utils' (/home/alice/git-repo/task-extraction/src/data_utils.py)",
     "output_type": "error",
     "traceback": [
      "\u001b[0;31m---------------------------------------------------------------------------\u001b[0m",
      "\u001b[0;31mImportError\u001b[0m                               Traceback (most recent call last)",
      "Cell \u001b[0;32mIn[11], line 1\u001b[0m\n\u001b[0;32m----> 1\u001b[0m \u001b[38;5;28;01mfrom\u001b[39;00m \u001b[38;5;21;01msrc\u001b[39;00m\u001b[38;5;21;01m.\u001b[39;00m\u001b[38;5;21;01mdata_utils\u001b[39;00m \u001b[38;5;28;01mimport\u001b[39;00m calculate_bert_score\n\u001b[1;32m      2\u001b[0m calculator \u001b[38;5;241m=\u001b[39m BERTScoreCalculator()\n\u001b[1;32m      4\u001b[0m calculator\u001b[38;5;241m.\u001b[39mcalculate_bert_score(included_articles[\u001b[38;5;241m0\u001b[39m]\u001b[38;5;241m.\u001b[39mcognitive_task, included_articles[\u001b[38;5;241m1\u001b[39m]\u001b[38;5;241m.\u001b[39mcognitive_task)\n",
      "\u001b[0;31mImportError\u001b[0m: cannot import name 'calculate_bert_score' from 'src.data_utils' (/home/alice/git-repo/task-extraction/src/data_utils.py)"
     ]
    }
   ],
   "source": [
    "from src.data_utils import calculate_bert_score\n",
    "calculator = BERTScoreCalculator()\n",
    "\n",
    "calculator.calculate_bert_score(included_articles[0].cognitive_task, included_articles[1].cognitive_task)"
   ]
  },
  {
   "cell_type": "code",
   "execution_count": null,
   "metadata": {},
   "outputs": [],
   "source": []
  }
 ],
 "metadata": {
  "kernelspec": {
   "display_name": "venv",
   "language": "python",
   "name": "python3"
  },
  "language_info": {
   "codemirror_mode": {
    "name": "ipython",
    "version": 3
   },
   "file_extension": ".py",
   "mimetype": "text/x-python",
   "name": "python",
   "nbconvert_exporter": "python",
   "pygments_lexer": "ipython3",
   "version": "3.10.12"
  }
 },
 "nbformat": 4,
 "nbformat_minor": 2
}
